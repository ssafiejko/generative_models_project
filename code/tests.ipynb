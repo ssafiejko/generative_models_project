{
 "cells": [
  {
   "cell_type": "code",
   "execution_count": null,
   "id": "fab9d326",
   "metadata": {},
   "outputs": [],
   "source": [
    "import os\n",
    "import random\n",
    "import numpy as np\n",
    "from glob import glob\n",
    "from PIL import Image\n",
    "import torch\n",
    "import torch.nn as nn\n",
    "import torch.optim as optim\n",
    "from torch.utils.data import DataLoader, Dataset\n",
    "from torchvision import transforms, utils\n",
    "from torchvision.datasets import ImageFolder\n",
    "from torchvision.models import inception_v3\n",
    "from data_processing import make_dataloader\n",
    "from utils import compute_activation_statistics, load_or_compute_real_stats\n",
    "from utils import compute_fid_score_unified\n",
    "from gan import DCGANGenerator, DCGANDiscriminator, train_dcgan,train_lsgan, interpolate_and_generate\n",
    "from vae import VAE, train_vae, generate_vae_samples, vae_interpolate\n",
    "\n"
   ]
  },
  {
   "cell_type": "code",
   "execution_count": null,
   "id": "27f9c010",
   "metadata": {},
   "outputs": [],
   "source": [
    "def set_seed(seed):\n",
    "    random.seed(seed)\n",
    "    np.random.seed(seed)\n",
    "    torch.manual_seed(seed)\n",
    "    torch.cuda.manual_seed_all(seed)\n",
    "    torch.backends.cudnn.deterministic = True  \n",
    "    torch.backends.cudnn.benchmark = False    \n",
    "set_seed(42)\n",
    "class Config:\n",
    "    # Data\n",
    "    root_path = 'Data'             # path to cats-only images\n",
    "    image_size = 64                     # resize all images to this size\n",
    "    batch_size = 64\n",
    "    ndf = 64                     # number of discriminator filters\n",
    "    ngf = 64                     # number of generator filters\n",
    "\n",
    "    # Model & training\n",
    "    latent_dim = 100\n",
    "    lr = 0.0001\n",
    "    beta1 = 0.5                        \n",
    "    num_epochs = 30\n",
    "\n",
    "    # FID\n",
    "    fid_batch = 50\n",
    "    device = torch.device('mps' if torch.backends.mps.is_available() else 'cpu')\n",
    "\n",
    "cfg = Config()\n",
    "\n",
    "\n",
    "loader_cats = make_dataloader(cfg)\n"
   ]
  },
  {
   "cell_type": "code",
   "execution_count": null,
   "id": "18fcb43a",
   "metadata": {},
   "outputs": [],
   "source": [
    "gen_cats, disc_cats, history = train_dcgan(loader_cats, cfg, save_path=f'./histories/dcgan.pkl')\n",
    "fid_value = compute_fid_score_unified(\n",
    "generator_type='gan',\n",
    "model=gen_cats,\n",
    "real_loader=loader_cats,\n",
    "cfg=cfg,\n",
    "num_fake=1000  \n",
    ")"
   ]
  },
  {
   "cell_type": "code",
   "execution_count": null,
   "id": "4f176c66",
   "metadata": {},
   "outputs": [],
   "source": [
    "set_seed(12511)\n",
    "z1 = np.random.randn(cfg.latent_dim, 1, 1)\n",
    "z2 = np.random.randn(cfg.latent_dim, 1, 1)\n",
    "imgs = interpolate_and_generate(gen_cats, z1, z2,cfg, steps=10)\n",
    "utils.save_image(imgs, 'interpolated_wgan_cats_30epochs.png', nrow=10, normalize=True)"
   ]
  }
 ],
 "metadata": {
  "kernelspec": {
   "display_name": "Python 3",
   "language": "python",
   "name": "python3"
  },
  "language_info": {
   "codemirror_mode": {
    "name": "ipython",
    "version": 3
   },
   "file_extension": ".py",
   "mimetype": "text/x-python",
   "name": "python",
   "nbconvert_exporter": "python",
   "pygments_lexer": "ipython3",
   "version": "3.9.6"
  }
 },
 "nbformat": 4,
 "nbformat_minor": 5
}
