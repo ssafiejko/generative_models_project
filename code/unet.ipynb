{
 "cells": [
  {
   "cell_type": "code",
   "execution_count": null,
   "id": "d0102c0f",
   "metadata": {},
   "outputs": [],
   "source": [
    "import torch\n",
    "from data_processing import make_gpu_dataloader\n",
    "import warnings\n",
    "from unet import train_model, CatDiffusion, DiffusionConfig\n",
    "from unet_utils import tensor_to_image, visualize_denoising, compute_fid\n",
    "import matplotlib.pyplot as plt\n",
    "import os\n",
    "import numpy as np\n",
    "import random\n",
    "warnings.filterwarnings(\"ignore\")\n",
    "def set_seed(seed):\n",
    "    random.seed(seed)\n",
    "    np.random.seed(seed)\n",
    "    torch.manual_seed(seed)\n",
    "    torch.cuda.manual_seed_all(seed)\n",
    "    torch.backends.cudnn.deterministic = True  \n",
    "    torch.backends.cudnn.benchmark = False    \n",
    "set_seed(42)"
   ]
  },
  {
   "cell_type": "code",
   "execution_count": null,
   "id": "93afa309",
   "metadata": {},
   "outputs": [],
   "source": [
    "def save_samples(samples, path_prefix):\n",
    "    os.makedirs(path_prefix, exist_ok=True)\n",
    "    for i, sample in enumerate(samples):\n",
    "        img = tensor_to_image(sample)\n",
    "        img.save(os.path.join(path_prefix, f\"sample{i}.png\"))\n",
    "        \n",
    "def save_loss(loss_list, path_prefix, param, val):\n",
    "    loss_save = np.asarray(loss_list)\n",
    "    np.save(f\"{path_prefix}/{param}_{val}\", loss_save)"
   ]
  },
  {
   "cell_type": "code",
   "execution_count": null,
   "id": "9e8ba561-608e-413d-8ebc-6851d53bb44e",
   "metadata": {
    "scrolled": true
   },
   "outputs": [],
   "source": [
    "class Config:\n",
    "        root_path = 'Data'\n",
    "        image_size = 64\n",
    "        batch_size = 128\n",
    "        device = \"cuda\"\n",
    "\n",
    "lr = 0.0001\n",
    "wd = 0.001\n",
    "timesteps = 500\n",
    "epochs = 10\n",
    "\n",
    "cfg = Config()\n",
    "loader_cats = make_dataloader(cfg)\n",
    "model, loss = train_model(loader_cats, epochs=epochs, lr=lr, weight_decay=wd, timesteps=timesteps, device=cfg.device)"
   ]
  },
  {
   "cell_type": "code",
   "execution_count": null,
   "id": "7419623f-a649-4ce6-9326-9276ba82383a",
   "metadata": {},
   "outputs": [],
   "source": [
    "visualize_denoising(model)"
   ]
  }
 ],
 "metadata": {
  "environment": {
   "kernel": "conda-base-py",
   "name": "workbench-notebooks.m129",
   "type": "gcloud",
   "uri": "us-docker.pkg.dev/deeplearning-platform-release/gcr.io/workbench-notebooks:m129"
  },
  "kernelspec": {
   "display_name": "Python 3 (ipykernel)",
   "language": "python",
   "name": "conda-base-py"
  },
  "language_info": {
   "codemirror_mode": {
    "name": "ipython",
    "version": 3
   },
   "file_extension": ".py",
   "mimetype": "text/x-python",
   "name": "python",
   "nbconvert_exporter": "python",
   "pygments_lexer": "ipython3",
   "version": "3.10.16"
  }
 },
 "nbformat": 4,
 "nbformat_minor": 5
}
